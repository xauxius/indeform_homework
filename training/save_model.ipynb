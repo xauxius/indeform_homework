{
 "cells": [
  {
   "cell_type": "code",
   "execution_count": 16,
   "metadata": {},
   "outputs": [],
   "source": [
    "import os\n",
    "import sys\n",
    "import io\n",
    "\n",
    "project_root = os.path.abspath(os.path.join(os.curdir, '../'))\n",
    "if project_root not in sys.path:\n",
    "    sys.path.append(project_root)\n",
    "\n",
    "\n",
    "from common.storage_client import storage_client"
   ]
  },
  {
   "cell_type": "code",
   "execution_count": 17,
   "metadata": {},
   "outputs": [],
   "source": [
    "DATASET_ID = 1"
   ]
  },
  {
   "cell_type": "code",
   "execution_count": 18,
   "metadata": {},
   "outputs": [],
   "source": [
    "file_name = \"after_10_ep.pt\" \n",
    "\n",
    "with open(file_name, \"rb\") as model_file:\n",
    "    create_model_dto = {\n",
    "        \"TrainingDatasetID\": DATASET_ID,\n",
    "        \"Name\": \"Faster RCNN after 10 epochs\"\n",
    "    }\n",
    "    storage_client.post_model(model_file, create_model_dto, file_name)\n",
    "    # storage_client.post_model(model_file, create_model_dto, \"after_10.pt\")"
   ]
  }
 ],
 "metadata": {
  "kernelspec": {
   "display_name": "pytorch",
   "language": "python",
   "name": "python3"
  },
  "language_info": {
   "codemirror_mode": {
    "name": "ipython",
    "version": 3
   },
   "file_extension": ".py",
   "mimetype": "text/x-python",
   "name": "python",
   "nbconvert_exporter": "python",
   "pygments_lexer": "ipython3",
   "version": "3.12.3"
  }
 },
 "nbformat": 4,
 "nbformat_minor": 2
}
